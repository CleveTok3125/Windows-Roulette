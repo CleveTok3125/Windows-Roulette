{
  "nbformat": 4,
  "nbformat_minor": 0,
  "metadata": {
    "colab": {
      "provenance": [],
      "authorship_tag": "ABX9TyNJgmbO8JRHLF2ez8Suafbs",
      "include_colab_link": true
    },
    "kernelspec": {
      "name": "python3",
      "display_name": "Python 3"
    },
    "language_info": {
      "name": "python"
    }
  },
  "cells": [
    {
      "cell_type": "markdown",
      "metadata": {
        "id": "view-in-github",
        "colab_type": "text"
      },
      "source": [
        "<a href=\"https://colab.research.google.com/github/CleveTok3125/Windows-Roulette/blob/main/Colab.ipynb\" target=\"_parent\"><img src=\"https://colab.research.google.com/assets/colab-badge.svg\" alt=\"Open In Colab\"/></a>"
      ]
    },
    {
      "cell_type": "code",
      "execution_count": null,
      "metadata": {
        "id": "P1YGnkcXtKPR"
      },
      "outputs": [],
      "source": [
        "# @title Windows Roulette { vertical-output: true, display-mode: \"form\" }\n",
        "# Github: https://github.com/CleveTok3125/Windows-Roulette/\n",
        "# Scripts: https://raw.githubusercontent.com/CleveTok3125/Windows-Roulette/main/roulette.py\n",
        "\n",
        "try:\n",
        "  import requests\n",
        "except:\n",
        "  !pip install requests\n",
        "  import requests\n",
        "\n",
        "url = 'https://raw.githubusercontent.com/CleveTok3125/Windows-Roulette/main/roulette.py'\n",
        "response = requests.get(url)\n",
        "with open('roulette.py', 'wb') as f:\n",
        "    f.write(response.content)\n",
        "%run roulette.py"
      ]
    }
  ]
}